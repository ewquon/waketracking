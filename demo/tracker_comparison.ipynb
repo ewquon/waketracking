{
 "cells": [
  {
   "cell_type": "code",
   "execution_count": null,
   "metadata": {},
   "outputs": [],
   "source": [
    "%matplotlib inline\n",
    "from __future__ import print_function"
   ]
  },
  {
   "cell_type": "code",
   "execution_count": null,
   "metadata": {},
   "outputs": [],
   "source": [
    "# If you have not installed the samwich package, e.g., using:\n",
    "#   python setup.py install\n",
    "# then we need to add the repo to our path.\n",
    "import os,sys\n",
    "sys.path.append(os.path.join(os.environ['HOME'],'waketracking'))"
   ]
  },
  {
   "cell_type": "markdown",
   "metadata": {},
   "source": [
    "# tracker_comparison\n",
    "Written by [Eliot Quon](mailto:eliot.quon@nrel.gov) -- 2017-01-04\n",
    "\n",
    "Instantaneous snapshot provided by [Paula Doubrawa](mailto:paula.doubrawa@nrel.gov)"
   ]
  },
  {
   "cell_type": "code",
   "execution_count": null,
   "metadata": {},
   "outputs": [],
   "source": [
    "import numpy as np\n",
    "import matplotlib.pyplot as plt\n",
    "from samwich.dataloaders import planar_data\n",
    "from samwich.waketrackers import track"
   ]
  },
  {
   "cell_type": "code",
   "execution_count": null,
   "metadata": {},
   "outputs": [],
   "source": [
    "trackerlist = track()"
   ]
  },
  {
   "cell_type": "markdown",
   "metadata": {},
   "source": [
    "## Case-specific parameters"
   ]
  },
  {
   "cell_type": "code",
   "execution_count": null,
   "metadata": {},
   "outputs": [],
   "source": [
    "#kind = 'mean'  # sanity check, not very interesting\n",
    "kind = 'instantaneous'"
   ]
  },
  {
   "cell_type": "code",
   "execution_count": null,
   "metadata": {},
   "outputs": [],
   "source": [
    "D = 27.0  # to define the search range, and the reference area for the contour methods\n",
    "zhub = 32.1  # hub height [m], for estimating the freestream reference velocity\n",
    "aref = 0.3  # induction, for estimating the momentum theory mass/momentum flux"
   ]
  },
  {
   "cell_type": "code",
   "execution_count": null,
   "metadata": {},
   "outputs": [],
   "source": [
    "ref_area = np.pi*D**2/4\n",
    "print(ref_area)"
   ]
  },
  {
   "cell_type": "code",
   "execution_count": null,
   "metadata": {},
   "outputs": [],
   "source": [
    "ref_CT = 4*aref*(1-aref)  # thrust coefficient\n",
    "ref_CP = 4*aref*(1-aref)**2  # power coefficient\n",
    "print(ref_CT,ref_CP)"
   ]
  },
  {
   "cell_type": "code",
   "execution_count": null,
   "metadata": {},
   "outputs": [],
   "source": [
    "styles = {\n",
    "    'gaussian (R)': {\n",
    "        'label':r'1-D Gaussian ($\\sigma=R$)',\n",
    "        'color':'b',\n",
    "        'linestyle':'--','linewidth':2,\n",
    "        'marker':'o','markersize':6\n",
    "    },\n",
    "    'gaussian (1.5R)': {\n",
    "        'label':r'1-D Gaussian ($\\sigma=1.5R$)',\n",
    "        'color':'m',\n",
    "        'linestyle':'--','linewidth':2,\n",
    "        'marker':'o','markersize':6\n",
    "    },\n",
    "    'gaussian (Porte-Agel)': {\n",
    "        'label':r'1-D Gaussian (Porte-Agel model)',\n",
    "        'color':'r',\n",
    "        'linestyle':'--','linewidth':2,\n",
    "        'marker':'o','markersize':6\n",
    "    },\n",
    "    'gaussian (ideal)': {\n",
    "        'label':r'1-D Gaussian (x-mom deficit $\\sigma$)',\n",
    "        'color':'m',\n",
    "        'linestyle':'--','linewidth':2,\n",
    "        'marker':'o','markersize':6\n",
    "    },\n",
    "    'elliptical': {\n",
    "        'label':r'2-D Gaussian (opt $\\sigma_x$,$\\sigma_y$,$\\theta$)',\n",
    "        'color':'y',\n",
    "        'linestyle':'--','linewidth':2,\n",
    "        'marker':'o','markersize':6\n",
    "    },\n",
    "    \n",
    "    'const area': {\n",
    "        'label':r'const area contour',\n",
    "        'color':'b',\n",
    "        'linestyle':'-','linewidth':2,\n",
    "        'marker':'+','markersize':10\n",
    "    },\n",
    "    'momentum deficit': {\n",
    "        'label':r'const x-mom deficit contour',\n",
    "        'color':'r',\n",
    "        'linestyle':'-','linewidth':2,\n",
    "        'marker':'+','markersize':10\n",
    "    },\n",
    "    \n",
    "    'min power': {\n",
    "        'label':r'min power region',\n",
    "        'color':'0.6',\n",
    "        'linestyle':'-','linewidth':2,\n",
    "        'marker':'x','markersize':8\n",
    "    },\n",
    "}"
   ]
  },
  {
   "cell_type": "markdown",
   "metadata": {},
   "source": [
    "## Read in test data\n",
    "Note: General dataloaders exist to handle processing of multiple sampling locations and/or many samples over time."
   ]
  },
  {
   "cell_type": "code",
   "execution_count": null,
   "metadata": {},
   "outputs": [],
   "source": [
    "varlist = ['x','y','z','u','v','w']\n",
    "sample = planar_data({v: np.loadtxt('MWE-data/3D_{}_{}_WFoR.txt'.format(kind,v)) for v in varlist})"
   ]
  },
  {
   "cell_type": "markdown",
   "metadata": {},
   "source": [
    "## Calculate freestream\n",
    "Note: This is an optional step if upstream data are available."
   ]
  },
  {
   "cell_type": "code",
   "execution_count": null,
   "metadata": {},
   "outputs": [],
   "source": [
    "data = {v: np.loadtxt('MWE-data/freestream_mean_{}_WFoR.txt'.format(v)) for v in varlist}\n",
    "free_z = data['z'][0,:]\n",
    "free_Uprofile = np.mean(data['u'],axis=0)\n",
    "jhub = np.argmin(np.abs(data['y'][:,0]-np.mean(data['y'][:,0])))\n",
    "khub = np.argmin(np.abs(data['z'][0,:]-zhub))\n",
    "ref_velocity = data['u'][jhub,khub]\n",
    "#free_const = free_Uprofile*0.0 + ref_velocity\n",
    "\n",
    "fig,ax = plt.subplots()\n",
    "ax.plot(free_Uprofile,free_z,'-k')\n",
    "ax.axvline(ref_velocity,linestyle='--')\n",
    "plt.xlabel('u (m/s)')\n",
    "plt.ylabel('z (m)')\n",
    "\n",
    "print(\"ref velocity (at z={z}) is {Uref}\".format(z=data['z'][0,khub],Uref=ref_velocity))"
   ]
  },
  {
   "cell_type": "code",
   "execution_count": null,
   "metadata": {},
   "outputs": [],
   "source": [
    "ref_thrust = ref_CT * 0.5*ref_velocity**2 * ref_area  # force / density\n",
    "print('ref thrust (momentum deficit) is',ref_thrust,'N/(kg/m^3)')"
   ]
  },
  {
   "cell_type": "markdown",
   "metadata": {},
   "source": [
    "## <font color='grey'>*Create all wake tracking objects at once*</font>"
   ]
  },
  {
   "cell_type": "code",
   "execution_count": null,
   "metadata": {},
   "outputs": [],
   "source": [
    "#\n",
    "# CLEANER/CLEARER TO JUST CREATE THE TRACKER WITH EACH CASE\n",
    "#\n",
    "#for tracker in trackerlist:\n",
    "#    wake[tracker] = track(sample.sliceI(),method=tracker,verbose=True) \n",
    "#    wake[tracker].remove_shear(wind_profile=free_Uprofile)"
   ]
  },
  {
   "cell_type": "code",
   "execution_count": null,
   "metadata": {},
   "outputs": [],
   "source": [
    "wake = {}\n",
    "yc,zc = {},{}"
   ]
  },
  {
   "cell_type": "markdown",
   "metadata": {},
   "source": [
    "## Constant area contours"
   ]
  },
  {
   "cell_type": "code",
   "execution_count": null,
   "metadata": {},
   "outputs": [],
   "source": [
    "tracker = 'const area'\n",
    "wake[tracker] = track(sample.sliceI(),method='ConstantArea',verbose=True) \n",
    "wake[tracker].remove_shear(wind_profile=free_Uprofile)\n",
    "yc[tracker],zc[tracker] = wake[tracker].find_centers(ref_area,\n",
    "                                                     tol=0.01,  # min spacing to test (default:0.01)\n",
    "                                                     verbosity=0,  # >0 for debugging\n",
    "                                                    )  # center is weighted by velocity deficit by default"
   ]
  },
  {
   "cell_type": "markdown",
   "metadata": {},
   "source": [
    "## Momentum deficit contours"
   ]
  },
  {
   "cell_type": "code",
   "execution_count": null,
   "metadata": {},
   "outputs": [],
   "source": [
    "tracker = 'momentum deficit'\n",
    "#func = lambda u: u*(ref_velocity-u)  # this neglects shear\n",
    "func = lambda u,u_tot: -u*u_tot  # == -(U(t,y,z) - U_inf(z))*U(t,y,z) == U*(U_inf - U)\n",
    "wake[tracker] = track(sample.sliceI(),method='ConstantFlux',verbose=True) \n",
    "wake[tracker].remove_shear(wind_profile=free_Uprofile)\n",
    "yc[tracker],zc[tracker] = wake[tracker].find_centers(ref_thrust,\n",
    "                                                     flux_function=func,\n",
    "                                                     #field_names=('u_tot'),  # instantaneous velocity\n",
    "                                                     field_names=('u','u_tot'),\n",
    "                                                     tol=0.01,  # min spacing to test (default:0.01)\n",
    "                                                     verbosity=0,  # >0 for debugging\n",
    "                                                    )  # center is weighted by velocity deficit by default"
   ]
  },
  {
   "cell_type": "markdown",
   "metadata": {},
   "source": [
    "## Gaussian Fits"
   ]
  },
  {
   "cell_type": "code",
   "execution_count": null,
   "metadata": {},
   "outputs": [],
   "source": [
    "tracker = 'gaussian (R)'\n",
    "wake[tracker] = track(sample.sliceI(),method='Gaussian',verbose=True) \n",
    "wake[tracker].remove_shear(wind_profile=free_Uprofile)\n",
    "yc[tracker],zc[tracker] = wake[tracker].find_centers(umin=None,  # default: detected from wake snapshot\n",
    "                                                     sigma=D/2,\n",
    "                                                    )  # center is weighted by velocity deficit by default"
   ]
  },
  {
   "cell_type": "code",
   "execution_count": null,
   "metadata": {},
   "outputs": [],
   "source": [
    "tracker = 'gaussian (Porte-Agel)'\n",
    "from samwich.gaussian_functions import PorteAgel\n",
    "#xref = np.mean(sample.x) - x0  # need to know turbine location...\n",
    "xloc = 3*D  # samples 3D downstream\n",
    "\n",
    "# model depends on case-dependent wake growth rate, kstar\n",
    "fernando = PorteAgel(CT=ref_CT,d0=D,kstar=0.03) # ad-hoc value taken from Bastankhah & Porte-Agel 2014 (the smallest of the full-scale cases)\n",
    "#fernando = PorteAgel(CT=ref_CT,d0=D,TI=0.20)\n",
    "\n",
    "wake[tracker] = track(sample.sliceI(),method='Gaussian',verbose=True) \n",
    "wake[tracker].remove_shear(wind_profile=free_Uprofile)\n",
    "yc[tracker],zc[tracker] = wake[tracker].find_centers(umin=fernando.amplitude(xloc,-ref_velocity),\n",
    "                                                     sigma=fernando.sigma(xloc),\n",
    "                                                    )  # center is weighted by velocity deficit by default"
   ]
  },
  {
   "cell_type": "code",
   "execution_count": null,
   "metadata": {},
   "outputs": [],
   "source": [
    "tracker = 'gaussian (ideal)' # sigma estimated from momentum deficit\n",
    "wake[tracker] = track(sample.sliceI(),method='Gaussian',verbose=True) \n",
    "wake[tracker].remove_shear(wind_profile=free_Uprofile)\n",
    "\n",
    "max_VD = -np.min(wake[tracker].u,axis=(1,2))  # max velocity deficit, u.shape == (Ntimes,Nh,Nv)\n",
    "sigma_opt = np.sqrt(ref_thrust / (np.pi*max_VD*(2*ref_velocity - max_VD)))\n",
    "\n",
    "yc[tracker],zc[tracker] = wake[tracker].find_centers(umin=None,  # default: detected from wake snapshot\n",
    "                                                     sigma=sigma_opt,\n",
    "                                                    )  # center is weighted by velocity deficit by default"
   ]
  },
  {
   "cell_type": "markdown",
   "metadata": {},
   "source": [
    "### 2D Gaussian"
   ]
  },
  {
   "cell_type": "code",
   "execution_count": null,
   "metadata": {},
   "outputs": [],
   "source": [
    "tracker = 'elliptical'\n",
    "wake[tracker] = track(sample.sliceI(),method='Gaussian2D',verbose=True) \n",
    "wake[tracker].remove_shear(wind_profile=free_Uprofile)\n",
    "yc[tracker],zc[tracker] = wake[tracker].find_centers(umin=None,  # default: detected from wake snapshot\n",
    "                                                     A_min=ref_area/5.0,  # ad hoc value\n",
    "                                                     A_max=ref_area*2.0,  # ad hoc value\n",
    "                                                     AR_max=10.0,  # ad hoc value\n",
    "                                                     verbosity=1,  # > 0 for debugging\n",
    "                                                    )  # center is weighted by velocity deficit by default"
   ]
  },
  {
   "cell_type": "markdown",
   "metadata": {},
   "source": [
    "## Test Region Approach"
   ]
  },
  {
   "cell_type": "code",
   "execution_count": null,
   "metadata": {},
   "outputs": [],
   "source": [
    "tracker = 'min power'\n",
    "wake[tracker] = track(sample.sliceI(),method='CircularTestRegion',verbose=True) \n",
    "wake[tracker].remove_shear(wind_profile=free_Uprofile)\n",
    "yc[tracker],zc[tracker] = wake[tracker].find_centers(test_radius=D/2,  # following Vollmer 2016\n",
    "                                                     test_function=lambda u: u**3,\n",
    "                                                     test_field='u_tot',\n",
    "                                                     #verbosity=2,  # verbosity > 0 for debug output\n",
    "                                                    )  # center is weighted by velocity deficit by default"
   ]
  },
  {
   "cell_type": "markdown",
   "metadata": {},
   "source": [
    "## Comparisons"
   ]
  },
  {
   "cell_type": "code",
   "execution_count": null,
   "metadata": {},
   "outputs": [],
   "source": [
    "itime = 0"
   ]
  },
  {
   "cell_type": "code",
   "execution_count": null,
   "metadata": {},
   "outputs": [],
   "source": [
    "for tracker,wakeobj in wake.items():\n",
    "    print(tracker,'center at',(yc[tracker][itime],zc[tracker][itime]))"
   ]
  },
  {
   "cell_type": "code",
   "execution_count": null,
   "metadata": {},
   "outputs": [],
   "source": [
    "all_yc = [ yc[tracker][itime] for tracker in wake.keys() ]\n",
    "all_zc = [ zc[tracker][itime] for tracker in wake.keys() ]\n",
    "yc_range = np.array([np.min(all_yc), np.max(all_yc)])\n",
    "zc_range = np.array([np.min(all_zc), np.max(all_zc)])\n",
    "print('y range:',yc_range,'==',yc_range/D,'D')\n",
    "print('z range:',zc_range,'==',zc_range/D,'D')"
   ]
  },
  {
   "cell_type": "markdown",
   "metadata": {},
   "source": [
    "### Compare all methods"
   ]
  },
  {
   "cell_type": "code",
   "execution_count": null,
   "metadata": {},
   "outputs": [],
   "source": [
    "c1,c2,dc = -4, 4, 0.1 # for freestream profile\n",
    "\n",
    "fig,ax = plt.subplots(figsize=(9,6))\n",
    "p1 = ax.contourf(wake['const area'].xh[:,:],\n",
    "                 wake['const area'].xv[:,:],\n",
    "                 wake['const area'].u[0,:,:],levels=np.arange(c1,c2+dc,dc))\n",
    "plt.colorbar(p1)\n",
    "ax.set_xlabel('Y (m)')\n",
    "ax.set_ylabel('Z (m)')\n",
    "\n",
    "for tracker,wakeobj in wake.items():\n",
    "    print('Plotting',tracker,styles[tracker]['label'])    \n",
    "    ax.plot(yc[tracker][itime], zc[tracker][itime],\n",
    "            color=styles[tracker]['color'],\n",
    "            marker=styles[tracker]['marker'],linestyle='',\n",
    "            ms=styles[tracker]['markersize'],mew=2,\n",
    "            label=styles[tracker]['label'])\n",
    "    ax.plot(wakeobj.paths[itime][:,0], wakeobj.paths[itime][:,1],\n",
    "            color=styles[tracker]['color'],\n",
    "            linestyle=styles[tracker]['linestyle'],\n",
    "            linewidth=styles[tracker]['linewidth'])\n",
    "plt.axis('equal')    \n",
    "legend = ax.legend(loc='center left',bbox_to_anchor=(1.2,0.5),ncol=1)\n",
    "plt.savefig('all_{:s}_wakes.png'.format(kind), dpi=150,\n",
    "            bbox_extra_artists=(legend,), bbox_inches='tight')  # to handle outside legend"
   ]
  },
  {
   "cell_type": "markdown",
   "metadata": {},
   "source": [
    "### Compare contour methods"
   ]
  },
  {
   "cell_type": "code",
   "execution_count": null,
   "metadata": {},
   "outputs": [],
   "source": [
    "wakeobj = wake['const area']\n",
    "\n",
    "fig,ax = plt.subplots(figsize=(9,6))\n",
    "p1 = ax.contourf(wakeobj.xh[:,:],\n",
    "                 wakeobj.xv[:,:],\n",
    "                 wakeobj.u[0,:,:],levels=np.arange(c1,c2+dc,dc))\n",
    "ax.plot(wake['const area'].paths[itime][:,0], wake['const area'].paths[itime][:,1],\n",
    "        color=styles['const area']['color'],\n",
    "        linestyle=styles['const area']['linestyle'],\n",
    "        linewidth=styles['const area']['linewidth'])\n",
    "plt.colorbar(p1)\n",
    "ax.set_title('U - Umean')\n",
    "\n",
    "fig,ax = plt.subplots(figsize=(9,6))\n",
    "p1 = ax.contourf(wakeobj.xh[:,:],\n",
    "                 wakeobj.xv[:,:],\n",
    "                 -wakeobj.u[0,:,:]*wakeobj.u_tot[0,:,:])\n",
    "ax.plot(wake['momentum deficit'].paths[itime][:,0], wake['momentum deficit'].paths[itime][:,1],\n",
    "        color=styles['momentum deficit']['color'],\n",
    "        linestyle=styles['momentum deficit']['linestyle'],\n",
    "        linewidth=styles['momentum deficit']['linewidth'])\n",
    "plt.colorbar(p1)\n",
    "ax.set_title('U*(Umean - U)')\n",
    "\n",
    "fig,ax = plt.subplots(figsize=(9,6))\n",
    "p1 = ax.contourf(wakeobj.xh[:,:],\n",
    "                 wakeobj.xv[:,:],\n",
    "                 wakeobj.u_tot[0,:,:])\n",
    "ax.plot(wake['const area'].paths[itime][:,0], wake['const area'].paths[itime][:,1],\n",
    "        color=styles['const area']['color'],\n",
    "        linestyle=styles['const area']['linestyle'],\n",
    "        linewidth=styles['const area']['linewidth'],\n",
    "        label=styles['const area']['label'])\n",
    "ax.plot(wake['momentum deficit'].paths[itime][:,0], wake['momentum deficit'].paths[itime][:,1],\n",
    "        color=styles['momentum deficit']['color'],\n",
    "        linestyle=styles['momentum deficit']['linestyle'],\n",
    "        linewidth=styles['momentum deficit']['linewidth'],\n",
    "        label=styles['momentum deficit']['label'])\n",
    "plt.colorbar(p1)\n",
    "plt.axis('equal')\n",
    "ax.legend(loc='best')\n",
    "ax.set_xlabel('Y (m)')\n",
    "ax.set_ylabel('Z (m)')\n",
    "fig.savefig('compare_contour_{}.png'.format(kind),dpi=150)"
   ]
  },
  {
   "cell_type": "code",
   "execution_count": null,
   "metadata": {},
   "outputs": [],
   "source": []
  }
 ],
 "metadata": {
  "kernelspec": {
   "display_name": "Python 3",
   "language": "python",
   "name": "python3"
  },
  "language_info": {
   "codemirror_mode": {
    "name": "ipython",
    "version": 3
   },
   "file_extension": ".py",
   "mimetype": "text/x-python",
   "name": "python",
   "nbconvert_exporter": "python",
   "pygments_lexer": "ipython3",
   "version": "3.6.3"
  }
 },
 "nbformat": 4,
 "nbformat_minor": 2
}
