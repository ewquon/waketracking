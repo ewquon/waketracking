{
 "cells": [
  {
   "cell_type": "code",
   "execution_count": 1,
   "metadata": {},
   "outputs": [],
   "source": [
    "%load_ext autoreload\n",
    "%autoreload 2"
   ]
  },
  {
   "cell_type": "code",
   "execution_count": 2,
   "metadata": {},
   "outputs": [],
   "source": [
    "%matplotlib inline\n",
    "import os\n",
    "import numpy as np\n",
    "import matplotlib.pyplot as plt\n",
    "from samwich.dataloaders import RawData\n",
    "from samwich.waketrackers import track, Plotter"
   ]
  },
  {
   "cell_type": "code",
   "execution_count": 3,
   "metadata": {},
   "outputs": [],
   "source": [
    "from examples.turbines import Turbine  # container for turbine properties\n",
    "from examples.defaults import styles"
   ]
  },
  {
   "cell_type": "markdown",
   "metadata": {},
   "source": [
    "# Comparison of Different Wake Tracking Methods\n",
    "Written by [Eliot Quon](mailto:eliot.quon@nrel.gov) -- 2017-01-04\n",
    "\n",
    "This is the basis for one of the regression tests"
   ]
  },
  {
   "cell_type": "code",
   "execution_count": 4,
   "metadata": {},
   "outputs": [
    {
     "name": "stdout",
     "output_type": "stream",
     "text": [
      "Need to specify 'method' as one of:\n",
      "  Gaussian (samwich.gaussian.GaussianTracker)\n",
      "  Gaussian2D (samwich.gaussian.Gaussian2DTracker)\n",
      "  ConstantFlux (samwich.contour.ConstantFluxTracker)\n",
      "  ConstantArea (samwich.contour.ConstantAreaTracker)\n",
      "  CircularTestRegion (samwich.testregion.CircularTestRegionTracker)\n"
     ]
    }
   ],
   "source": [
    "trackerlist = track()"
   ]
  },
  {
   "cell_type": "markdown",
   "metadata": {},
   "source": [
    "## Setup"
   ]
  },
  {
   "cell_type": "code",
   "execution_count": 5,
   "metadata": {},
   "outputs": [
    {
     "ename": "AttributeError",
     "evalue": "'Turbine' object has no attribute 'ref_area'",
     "output_type": "error",
     "traceback": [
      "\u001b[0;31m---------------------------------------------------------------------------\u001b[0m",
      "\u001b[0;31mAttributeError\u001b[0m                            Traceback (most recent call last)",
      "\u001b[0;32m~/anaconda3/lib/python3.7/site-packages/IPython/core/formatters.py\u001b[0m in \u001b[0;36m__call__\u001b[0;34m(self, obj)\u001b[0m\n\u001b[1;32m    700\u001b[0m                 \u001b[0mtype_pprinters\u001b[0m\u001b[0;34m=\u001b[0m\u001b[0mself\u001b[0m\u001b[0;34m.\u001b[0m\u001b[0mtype_printers\u001b[0m\u001b[0;34m,\u001b[0m\u001b[0;34m\u001b[0m\u001b[0;34m\u001b[0m\u001b[0m\n\u001b[1;32m    701\u001b[0m                 deferred_pprinters=self.deferred_printers)\n\u001b[0;32m--> 702\u001b[0;31m             \u001b[0mprinter\u001b[0m\u001b[0;34m.\u001b[0m\u001b[0mpretty\u001b[0m\u001b[0;34m(\u001b[0m\u001b[0mobj\u001b[0m\u001b[0;34m)\u001b[0m\u001b[0;34m\u001b[0m\u001b[0;34m\u001b[0m\u001b[0m\n\u001b[0m\u001b[1;32m    703\u001b[0m             \u001b[0mprinter\u001b[0m\u001b[0;34m.\u001b[0m\u001b[0mflush\u001b[0m\u001b[0;34m(\u001b[0m\u001b[0;34m)\u001b[0m\u001b[0;34m\u001b[0m\u001b[0;34m\u001b[0m\u001b[0m\n\u001b[1;32m    704\u001b[0m             \u001b[0;32mreturn\u001b[0m \u001b[0mstream\u001b[0m\u001b[0;34m.\u001b[0m\u001b[0mgetvalue\u001b[0m\u001b[0;34m(\u001b[0m\u001b[0;34m)\u001b[0m\u001b[0;34m\u001b[0m\u001b[0;34m\u001b[0m\u001b[0m\n",
      "\u001b[0;32m~/anaconda3/lib/python3.7/site-packages/IPython/lib/pretty.py\u001b[0m in \u001b[0;36mpretty\u001b[0;34m(self, obj)\u001b[0m\n\u001b[1;32m    400\u001b[0m                         \u001b[0;32mif\u001b[0m \u001b[0mcls\u001b[0m \u001b[0;32mis\u001b[0m \u001b[0;32mnot\u001b[0m \u001b[0mobject\u001b[0m\u001b[0;31m \u001b[0m\u001b[0;31m\\\u001b[0m\u001b[0;34m\u001b[0m\u001b[0;34m\u001b[0m\u001b[0m\n\u001b[1;32m    401\u001b[0m                                 \u001b[0;32mand\u001b[0m \u001b[0mcallable\u001b[0m\u001b[0;34m(\u001b[0m\u001b[0mcls\u001b[0m\u001b[0;34m.\u001b[0m\u001b[0m__dict__\u001b[0m\u001b[0;34m.\u001b[0m\u001b[0mget\u001b[0m\u001b[0;34m(\u001b[0m\u001b[0;34m'__repr__'\u001b[0m\u001b[0;34m)\u001b[0m\u001b[0;34m)\u001b[0m\u001b[0;34m:\u001b[0m\u001b[0;34m\u001b[0m\u001b[0;34m\u001b[0m\u001b[0m\n\u001b[0;32m--> 402\u001b[0;31m                             \u001b[0;32mreturn\u001b[0m \u001b[0m_repr_pprint\u001b[0m\u001b[0;34m(\u001b[0m\u001b[0mobj\u001b[0m\u001b[0;34m,\u001b[0m \u001b[0mself\u001b[0m\u001b[0;34m,\u001b[0m \u001b[0mcycle\u001b[0m\u001b[0;34m)\u001b[0m\u001b[0;34m\u001b[0m\u001b[0;34m\u001b[0m\u001b[0m\n\u001b[0m\u001b[1;32m    403\u001b[0m \u001b[0;34m\u001b[0m\u001b[0m\n\u001b[1;32m    404\u001b[0m             \u001b[0;32mreturn\u001b[0m \u001b[0m_default_pprint\u001b[0m\u001b[0;34m(\u001b[0m\u001b[0mobj\u001b[0m\u001b[0;34m,\u001b[0m \u001b[0mself\u001b[0m\u001b[0;34m,\u001b[0m \u001b[0mcycle\u001b[0m\u001b[0;34m)\u001b[0m\u001b[0;34m\u001b[0m\u001b[0;34m\u001b[0m\u001b[0m\n",
      "\u001b[0;32m~/anaconda3/lib/python3.7/site-packages/IPython/lib/pretty.py\u001b[0m in \u001b[0;36m_repr_pprint\u001b[0;34m(obj, p, cycle)\u001b[0m\n\u001b[1;32m    695\u001b[0m     \u001b[0;34m\"\"\"A pprint that just redirects to the normal repr function.\"\"\"\u001b[0m\u001b[0;34m\u001b[0m\u001b[0;34m\u001b[0m\u001b[0m\n\u001b[1;32m    696\u001b[0m     \u001b[0;31m# Find newlines and replace them with p.break_()\u001b[0m\u001b[0;34m\u001b[0m\u001b[0;34m\u001b[0m\u001b[0;34m\u001b[0m\u001b[0m\n\u001b[0;32m--> 697\u001b[0;31m     \u001b[0moutput\u001b[0m \u001b[0;34m=\u001b[0m \u001b[0mrepr\u001b[0m\u001b[0;34m(\u001b[0m\u001b[0mobj\u001b[0m\u001b[0;34m)\u001b[0m\u001b[0;34m\u001b[0m\u001b[0;34m\u001b[0m\u001b[0m\n\u001b[0m\u001b[1;32m    698\u001b[0m     \u001b[0;32mfor\u001b[0m \u001b[0midx\u001b[0m\u001b[0;34m,\u001b[0m\u001b[0moutput_line\u001b[0m \u001b[0;32min\u001b[0m \u001b[0menumerate\u001b[0m\u001b[0;34m(\u001b[0m\u001b[0moutput\u001b[0m\u001b[0;34m.\u001b[0m\u001b[0msplitlines\u001b[0m\u001b[0;34m(\u001b[0m\u001b[0;34m)\u001b[0m\u001b[0;34m)\u001b[0m\u001b[0;34m:\u001b[0m\u001b[0;34m\u001b[0m\u001b[0;34m\u001b[0m\u001b[0m\n\u001b[1;32m    699\u001b[0m         \u001b[0;32mif\u001b[0m \u001b[0midx\u001b[0m\u001b[0;34m:\u001b[0m\u001b[0;34m\u001b[0m\u001b[0;34m\u001b[0m\u001b[0m\n",
      "\u001b[0;32m~/waketracking/examples/turbines.py\u001b[0m in \u001b[0;36m__repr__\u001b[0;34m(self)\u001b[0m\n\u001b[1;32m     24\u001b[0m         \u001b[0ms\u001b[0m \u001b[0;34m+=\u001b[0m \u001b[0;34m'\\nhub height: {:g} m'\u001b[0m\u001b[0;34m.\u001b[0m\u001b[0mformat\u001b[0m\u001b[0;34m(\u001b[0m\u001b[0mself\u001b[0m\u001b[0;34m.\u001b[0m\u001b[0mzhub\u001b[0m\u001b[0;34m)\u001b[0m\u001b[0;34m\u001b[0m\u001b[0;34m\u001b[0m\u001b[0m\n\u001b[1;32m     25\u001b[0m         \u001b[0ms\u001b[0m \u001b[0;34m+=\u001b[0m \u001b[0;34m'\\ndiameter: {:g} m'\u001b[0m\u001b[0;34m.\u001b[0m\u001b[0mformat\u001b[0m\u001b[0;34m(\u001b[0m\u001b[0mself\u001b[0m\u001b[0;34m.\u001b[0m\u001b[0mD\u001b[0m\u001b[0;34m)\u001b[0m\u001b[0;34m\u001b[0m\u001b[0;34m\u001b[0m\u001b[0m\n\u001b[0;32m---> 26\u001b[0;31m         \u001b[0ms\u001b[0m \u001b[0;34m+=\u001b[0m \u001b[0;34m'\\nref area: {:g} m^2'\u001b[0m\u001b[0;34m.\u001b[0m\u001b[0mformat\u001b[0m\u001b[0;34m(\u001b[0m\u001b[0mself\u001b[0m\u001b[0;34m.\u001b[0m\u001b[0mref_area\u001b[0m\u001b[0;34m)\u001b[0m\u001b[0;34m\u001b[0m\u001b[0;34m\u001b[0m\u001b[0m\n\u001b[0m\u001b[1;32m     27\u001b[0m         \u001b[0ms\u001b[0m \u001b[0;34m+=\u001b[0m \u001b[0;34m'\\nref CP: {:g}'\u001b[0m\u001b[0;34m.\u001b[0m\u001b[0mformat\u001b[0m\u001b[0;34m(\u001b[0m\u001b[0mself\u001b[0m\u001b[0;34m.\u001b[0m\u001b[0mref_CP\u001b[0m\u001b[0;34m)\u001b[0m\u001b[0;34m\u001b[0m\u001b[0;34m\u001b[0m\u001b[0m\n\u001b[1;32m     28\u001b[0m         \u001b[0ms\u001b[0m \u001b[0;34m+=\u001b[0m \u001b[0;34m'\\nref CT: {:g}'\u001b[0m\u001b[0;34m.\u001b[0m\u001b[0mformat\u001b[0m\u001b[0;34m(\u001b[0m\u001b[0mself\u001b[0m\u001b[0;34m.\u001b[0m\u001b[0mref_CT\u001b[0m\u001b[0;34m)\u001b[0m\u001b[0;34m\u001b[0m\u001b[0;34m\u001b[0m\u001b[0m\n",
      "\u001b[0;31mAttributeError\u001b[0m: 'Turbine' object has no attribute 'ref_area'"
     ]
    }
   ],
   "source": [
    "turb = Turbine('V27')\n",
    "turb"
   ]
  },
  {
   "cell_type": "code",
   "execution_count": 6,
   "metadata": {},
   "outputs": [],
   "source": [
    "turb.base_location = (2414.8, 1633.3)"
   ]
  },
  {
   "cell_type": "code",
   "execution_count": 7,
   "metadata": {},
   "outputs": [
    {
     "data": {
      "text/plain": [
       "'/Users/equon/waketracking/reg_tests/MWE-data'"
      ]
     },
     "execution_count": 7,
     "metadata": {},
     "output_type": "execute_result"
    }
   ],
   "source": [
    "datadir = os.path.join(os.environ['HOME'],'waketracking','reg_tests','MWE-data')\n",
    "datadir"
   ]
  },
  {
   "cell_type": "markdown",
   "metadata": {},
   "source": [
    "## Read in test data\n",
    "Note: General dataloaders exist to handle processing of multiple sampling locations and/or many samples over time."
   ]
  },
  {
   "cell_type": "code",
   "execution_count": 8,
   "metadata": {},
   "outputs": [],
   "source": [
    "sample = RawData(os.path.join(datadir,'snapshot_instantaneous_WFoR.csv'))"
   ]
  },
  {
   "cell_type": "code",
   "execution_count": 9,
   "metadata": {},
   "outputs": [
    {
     "name": "stdout",
     "output_type": "stream",
     "text": [
      "Slicing data at i=0 x=2495.8\n"
     ]
    }
   ],
   "source": [
    "x,y,z,u = sample.sliceI()"
   ]
  },
  {
   "cell_type": "markdown",
   "metadata": {},
   "source": [
    "See `example_02_inflow_setup`:"
   ]
  },
  {
   "cell_type": "code",
   "execution_count": 10,
   "metadata": {},
   "outputs": [],
   "source": [
    "profile = np.loadtxt(os.path.join(datadir,'wind_profile.csv'), delimiter=',')"
   ]
  },
  {
   "cell_type": "code",
   "execution_count": 11,
   "metadata": {},
   "outputs": [
    {
     "data": {
      "text/plain": [
       "6.837746550647215"
      ]
     },
     "execution_count": 11,
     "metadata": {},
     "output_type": "execute_result"
    }
   ],
   "source": [
    "Uref = np.interp(turb.zhub, profile[:,0], profile[:,1])\n",
    "Uref"
   ]
  },
  {
   "cell_type": "markdown",
   "metadata": {},
   "source": [
    "## Calculate additional tracking parameters"
   ]
  },
  {
   "cell_type": "code",
   "execution_count": 12,
   "metadata": {},
   "outputs": [
    {
     "data": {
      "text/plain": [
       "3.0"
      ]
     },
     "execution_count": 12,
     "metadata": {},
     "output_type": "execute_result"
    }
   ],
   "source": [
    "xloc = (np.mean(x) - turb.base_location[0])\n",
    "xloc/turb.D"
   ]
  },
  {
   "cell_type": "code",
   "execution_count": 13,
   "metadata": {},
   "outputs": [
    {
     "name": "stdout",
     "output_type": "stream",
     "text": [
      "ref thrust (momentum deficit) is 11243.271506784444 N/(kg/m^3)\n"
     ]
    }
   ],
   "source": [
    "ref_thrust = turb.ref_CT * 0.5*Uref**2 * turb.rotor_area  # force / density\n",
    "print('ref thrust (momentum deficit) is',ref_thrust,'N/(kg/m^3)')"
   ]
  },
  {
   "cell_type": "markdown",
   "metadata": {},
   "source": [
    "## Perform wake identification"
   ]
  },
  {
   "cell_type": "code",
   "execution_count": 14,
   "metadata": {},
   "outputs": [],
   "source": [
    "p = Plotter(y,z,u)\n",
    "plt.close()"
   ]
  },
  {
   "cell_type": "markdown",
   "metadata": {},
   "source": [
    "### - Constant area contours"
   ]
  },
  {
   "cell_type": "code",
   "execution_count": 15,
   "metadata": {},
   "outputs": [
    {
     "name": "stdout",
     "output_type": "stream",
     "text": [
      "Selected Tracker: ConstantArea\n",
      "\n",
      "Sampling plane normal vector: [1. 0. 0.]\n",
      "  identified plane center at: 2495.8 1633.2849999999999 43.300985499999996\n",
      "  rotated to rotor-aligned axes (about z): 0.0 deg\n",
      "  rotation error: 0.0\n",
      "  horizontal search range: -58.96499999999992 58.965000000000146\n",
      "  vertical search range: 0.619571 85.9824\n",
      "Number of time frames to process: 1\n",
      "\n",
      "...finished initializing WakeTracker\n",
      "\n",
      "...finished initializing ContourWakeTracker\n",
      "\n",
      "...finished initializing ConstantArea \n",
      "\n",
      "  subtracting out profile (constant in time)\n",
      "Attempting to match area: 572.5552611167398 m^2\n"
     ]
    },
    {
     "name": "stderr",
     "output_type": "stream",
     "text": [
      "\r",
      "Processed frame 0\n"
     ]
    }
   ],
   "source": [
    "tracker = 'const area'\n",
    "wake = track(x,y,z,u, method='ConstantArea', verbose=True) \n",
    "wake.remove_shear(wind_profile=profile)\n",
    "yc,zc = wake.find_centers(turb.rotor_area)\n",
    "p.add(tracker, wake, **styles[tracker])"
   ]
  },
  {
   "cell_type": "markdown",
   "metadata": {},
   "source": [
    "### - Momentum deficit contours\n",
    "Recall: definition of velocity components in SAMWICH Box $u_{tot} = u_{avg} + u$\n",
    "\n",
    "\n",
    "momentum flux $M = U_w(U_\\infty - U_w) = -(U_w - U_\\infty)U_w = $ `-u*u_tot`, for wake velocity $U_w$"
   ]
  },
  {
   "cell_type": "code",
   "execution_count": 16,
   "metadata": {},
   "outputs": [
    {
     "name": "stdout",
     "output_type": "stream",
     "text": [
      "Selected Tracker: ConstantFlux\n",
      "\n",
      "Sampling plane normal vector: [1. 0. 0.]\n",
      "  identified plane center at: 2495.8 1633.2849999999999 43.300985499999996\n",
      "  rotated to rotor-aligned axes (about z): 0.0 deg\n",
      "  rotation error: 0.0\n",
      "  horizontal search range: -58.96499999999992 58.965000000000146\n",
      "  vertical search range: 0.619571 85.9824\n",
      "Number of time frames to process: 1\n",
      "\n",
      "...finished initializing WakeTracker\n",
      "\n",
      "...finished initializing ContourWakeTracker\n",
      "\n",
      "...finished initializing ConstantFlux \n",
      "\n",
      "  subtracting out profile (constant in time)\n",
      "Sample function evaluation: f(u=-4.860218848167541,u_tot=0.38453) = 1.8688999536858646\n",
      "Attempting to match flux: 11243.271506784444\n"
     ]
    },
    {
     "name": "stderr",
     "output_type": "stream",
     "text": [
      "\r",
      "Processed frame 0\n"
     ]
    }
   ],
   "source": [
    "tracker = 'const momentum deficit'\n",
    "flux = lambda u,uw: -u*uw  # function arguments correspond to field_names\n",
    "wake = track(x,y,z,u, method='ConstantFlux', verbose=True) \n",
    "wake.remove_shear(wind_profile=profile)\n",
    "yc,zc = wake.find_centers(ref_thrust,\n",
    "                          flux_function=flux,\n",
    "                          field_names=('u','u_tot'))\n",
    "p.add(tracker, wake, **styles[tracker])"
   ]
  },
  {
   "cell_type": "markdown",
   "metadata": {},
   "source": [
    "### - Gaussian Fits"
   ]
  },
  {
   "cell_type": "code",
   "execution_count": 17,
   "metadata": {},
   "outputs": [
    {
     "name": "stdout",
     "output_type": "stream",
     "text": [
      "Selected Tracker: Gaussian\n",
      "\n",
      "Sampling plane normal vector: [1. 0. 0.]\n",
      "  identified plane center at: 2495.8 1633.2849999999999 43.300985499999996\n",
      "  rotated to rotor-aligned axes (about z): 0.0 deg\n",
      "  rotation error: 0.0\n",
      "  horizontal search range: -58.96499999999992 58.965000000000146\n",
      "  vertical search range: 0.619571 85.9824\n",
      "Number of time frames to process: 1\n",
      "\n",
      "...finished initializing WakeTracker\n",
      "\n",
      "...finished initializing Gaussian \n",
      "\n",
      "  subtracting out profile (constant in time)\n",
      "Calculated umin= [-4.86021885]\n",
      "Average Gaussian function amplitude = -4.860218848167541 m/s (over 1 times)\n",
      "Specified Gaussian width = 13.5 m\n",
      "Reference Gaussian area = 572.5552611167398 m^2\n"
     ]
    },
    {
     "name": "stderr",
     "output_type": "stream",
     "text": [
      "\r",
      "Processed frame 0\n"
     ]
    }
   ],
   "source": [
    "tracker = '1-D Gaussian'\n",
    "wake = track(x,y,z,u, method='Gaussian',verbose=True) \n",
    "wake.remove_shear(wind_profile=profile)\n",
    "yc,zc = wake.find_centers(umin=None,  # default: detected from wake snapshot\n",
    "                          sigma=turb.D/2)\n",
    "p.add(tracker, wake, **styles[tracker])"
   ]
  },
  {
   "cell_type": "markdown",
   "metadata": {},
   "source": [
    "Estimated from momentum deficit..."
   ]
  },
  {
   "cell_type": "code",
   "execution_count": 18,
   "metadata": {},
   "outputs": [
    {
     "name": "stdout",
     "output_type": "stream",
     "text": [
      "Selected Tracker: Gaussian\n",
      "\n",
      "Sampling plane normal vector: [1. 0. 0.]\n",
      "  identified plane center at: 2495.8 1633.2849999999999 43.300985499999996\n",
      "  rotated to rotor-aligned axes (about z): 0.0 deg\n",
      "  rotation error: 0.0\n",
      "  horizontal search range: -58.96499999999992 58.965000000000146\n",
      "  vertical search range: 0.619571 85.9824\n",
      "Number of time frames to process: 1\n",
      "\n",
      "...finished initializing WakeTracker\n",
      "\n",
      "...finished initializing Gaussian \n",
      "\n",
      "  subtracting out profile (constant in time)\n",
      "Calculated umin= [-4.86021885]\n",
      "Average Gaussian function amplitude = -4.860218848167541 m/s (over 1 times)\n",
      "Mean/min/max reference Gaussian area: 262.4224856265574 262.4224856265574 262.4224856265574 m^2\n"
     ]
    },
    {
     "name": "stderr",
     "output_type": "stream",
     "text": [
      "\r",
      "Processed frame 0\n"
     ]
    }
   ],
   "source": [
    "tracker = '1-D Gaussian (ideal sigma)' # sigma estimated from momentum deficit\n",
    "wake = track(x,y,z,u, method='Gaussian',verbose=True) \n",
    "wake.remove_shear(wind_profile=profile)\n",
    "\n",
    "max_VD = -np.min(wake.u,axis=(1,2))  # max velocity deficit, u.shape == (Ntimes,Nh,Nv)\n",
    "sigma_opt = np.sqrt(ref_thrust / (np.pi*max_VD*(2*Uref - max_VD)))\n",
    "\n",
    "yc,zc = wake.find_centers(umin=None,  # default: detected from wake snapshot\n",
    "                          sigma=sigma_opt)\n",
    "p.add(tracker, wake, **styles[tracker])"
   ]
  },
  {
   "cell_type": "markdown",
   "metadata": {},
   "source": [
    "The Bastankhah & Porte-Agel gaussian model accounts for wake growth ($k^*$), which may be calculated from turbulence intensity (TI)"
   ]
  },
  {
   "cell_type": "code",
   "execution_count": 19,
   "metadata": {},
   "outputs": [
    {
     "name": "stdout",
     "output_type": "stream",
     "text": [
      "Selected Tracker: Gaussian\n",
      "\n",
      "Sampling plane normal vector: [1. 0. 0.]\n",
      "  identified plane center at: 2495.8 1633.2849999999999 43.300985499999996\n",
      "  rotated to rotor-aligned axes (about z): 0.0 deg\n",
      "  rotation error: 0.0\n",
      "  horizontal search range: -58.96499999999992 58.965000000000146\n",
      "  vertical search range: 0.619571 85.9824\n",
      "Number of time frames to process: 1\n",
      "\n",
      "...finished initializing WakeTracker\n",
      "\n",
      "...finished initializing Gaussian \n",
      "\n",
      "  subtracting out profile (constant in time)\n",
      "Calculated Gaussian width : 9.573528539874394 m\n",
      "Calculated Gaussian amplitude : -4.061637468341464 m/s\n",
      "Calculated Gaussian width : 9.573528539874394 m\n",
      "Average Gaussian function amplitude = -4.061637468341464 m/s (over 1 times)\n",
      "Specified Gaussian width = 9.573528539874394 m\n",
      "Reference Gaussian area = 287.93465953134057 m^2\n"
     ]
    },
    {
     "name": "stderr",
     "output_type": "stream",
     "text": [
      "\r",
      "Processed frame 0\n"
     ]
    }
   ],
   "source": [
    "tracker = '1-D Gaussian (Bastankhah)'\n",
    "from samwich.gaussian_functions import Bastankhah\n",
    "gauss = Bastankhah(CT=turb.ref_CT, d0=turb.D, kstar=0.03) # ad-hoc value from Bastankhah & Porte-Agel 2014\n",
    "#gauss = Bastankhah(CT=turb.ref_CT, d0=turb.D, TI=0.20)\n",
    "\n",
    "wake = track(x,y,z,u, method='Gaussian',verbose=True) \n",
    "wake.remove_shear(wind_profile=profile)\n",
    "yc,zc = wake.find_centers(umin=gauss.amplitude(xloc,-Uref),\n",
    "                          sigma=gauss.sigma(xloc))\n",
    "p.add(tracker, wake, **styles[tracker])"
   ]
  },
  {
   "cell_type": "markdown",
   "metadata": {},
   "source": [
    "### - 2D Gaussian"
   ]
  },
  {
   "cell_type": "code",
   "execution_count": 20,
   "metadata": {},
   "outputs": [
    {
     "name": "stdout",
     "output_type": "stream",
     "text": [
      "Selected Tracker: Gaussian2D\n",
      "\n",
      "Sampling plane normal vector: [1. 0. 0.]\n",
      "  identified plane center at: 2495.8 1633.2849999999999 43.300985499999996\n",
      "  rotated to rotor-aligned axes (about z): 0.0 deg\n",
      "  rotation error: 0.0\n",
      "  horizontal search range: -58.96499999999992 58.965000000000146\n",
      "  vertical search range: 0.619571 85.9824\n",
      "Number of time frames to process: 1\n",
      "\n",
      "...finished initializing WakeTracker\n",
      "\n",
      "...finished initializing Gaussian2D \n",
      "\n",
      "  subtracting out profile (constant in time)\n",
      "average Gaussian function amplitude = -4.860218848167541 m/s (over 1 times)\n",
      "\n",
      "itime = 0\n",
      "-------------\n",
      "1D-Gaussian guess: [-17.57028198  35.67103972]\n",
      "Selected best of [1359.1058172545536]\n",
      "yc,zc : -20.6, 39.0; rotation=-8.971427131686353 deg; ref wake area=279.67367527674617 m^2 (outline level=-0.6577590944086777)\n"
     ]
    },
    {
     "name": "stderr",
     "output_type": "stream",
     "text": [
      "\r",
      "Processed frame 0\n"
     ]
    }
   ],
   "source": [
    "tracker = '2-D Gaussian'\n",
    "wake = track(x,y,z,u, method='Gaussian2D',verbose=True) \n",
    "wake.remove_shear(wind_profile=profile)\n",
    "yc,zc = wake.find_centers(umin=None,  # default: detected from wake snapshot\n",
    "                          A_ref=turb.rotor_area,\n",
    "                          A_min=turb.rotor_area/5,  # ad hoc value\n",
    "                          A_max=turb.rotor_area*2,  # ad hoc value\n",
    "                          AR_max=10.0,  # ad hoc value\n",
    "                          verbosity=1,  # > 0 for debugging\n",
    "                         )\n",
    "p.add(tracker, wake, **styles[tracker])"
   ]
  },
  {
   "cell_type": "markdown",
   "metadata": {},
   "source": [
    "### - Test Region"
   ]
  },
  {
   "cell_type": "code",
   "execution_count": 21,
   "metadata": {},
   "outputs": [
    {
     "name": "stdout",
     "output_type": "stream",
     "text": [
      "Selected Tracker: CircularTestRegion\n",
      "\n",
      "Sampling plane normal vector: [1. 0. 0.]\n",
      "  identified plane center at: 2495.8 1633.2849999999999 43.300985499999996\n",
      "  rotated to rotor-aligned axes (about z): 0.0 deg\n",
      "  rotation error: 0.0\n",
      "  horizontal search range: -58.96499999999992 58.965000000000146\n",
      "  vertical search range: 0.619571 85.9824\n",
      "Number of time frames to process: 1\n",
      "\n",
      "...finished initializing WakeTracker\n",
      "\n",
      "...finished initializing CircularTestRegion \n",
      "\n",
      "  subtracting out profile (constant in time)\n",
      "Searching within a region with radius=13.5\n"
     ]
    },
    {
     "name": "stderr",
     "output_type": "stream",
     "text": [
      "\r",
      "Processed frame 0\n"
     ]
    }
   ],
   "source": [
    "tracker = 'min power'\n",
    "wake = track(x,y,z,u, method='CircularTestRegion',verbose=True) \n",
    "wake.remove_shear(wind_profile=profile)\n",
    "yc,zc = wake.find_centers(test_radius=turb.D/2,  # following Vollmer 2016\n",
    "                          test_function=lambda u: u**3,\n",
    "                          test_field='u_tot')\n",
    "p.add(tracker, wake, **styles[tracker])"
   ]
  },
  {
   "cell_type": "code",
   "execution_count": null,
   "metadata": {},
   "outputs": [],
   "source": []
  },
  {
   "cell_type": "markdown",
   "metadata": {},
   "source": [
    "## Comparisons"
   ]
  },
  {
   "cell_type": "code",
   "execution_count": 22,
   "metadata": {},
   "outputs": [],
   "source": [
    "itime = 0"
   ]
  },
  {
   "cell_type": "code",
   "execution_count": 23,
   "metadata": {},
   "outputs": [
    {
     "ename": "AttributeError",
     "evalue": "'CircularTestRegion' object has no attribute 'items'",
     "output_type": "error",
     "traceback": [
      "\u001b[0;31m---------------------------------------------------------------------------\u001b[0m",
      "\u001b[0;31mAttributeError\u001b[0m                            Traceback (most recent call last)",
      "\u001b[0;32m<ipython-input-23-32bb5be0df6c>\u001b[0m in \u001b[0;36m<module>\u001b[0;34m\u001b[0m\n\u001b[0;32m----> 1\u001b[0;31m \u001b[0;32mfor\u001b[0m \u001b[0mtracker\u001b[0m\u001b[0;34m,\u001b[0m\u001b[0mwakeobj\u001b[0m \u001b[0;32min\u001b[0m \u001b[0mwake\u001b[0m\u001b[0;34m.\u001b[0m\u001b[0mitems\u001b[0m\u001b[0;34m(\u001b[0m\u001b[0;34m)\u001b[0m\u001b[0;34m:\u001b[0m\u001b[0;34m\u001b[0m\u001b[0;34m\u001b[0m\u001b[0m\n\u001b[0m\u001b[1;32m      2\u001b[0m     \u001b[0mprint\u001b[0m\u001b[0;34m(\u001b[0m\u001b[0mtracker\u001b[0m\u001b[0;34m,\u001b[0m\u001b[0;34m'center at'\u001b[0m\u001b[0;34m,\u001b[0m\u001b[0;34m(\u001b[0m\u001b[0myc\u001b[0m\u001b[0;34m[\u001b[0m\u001b[0mtracker\u001b[0m\u001b[0;34m]\u001b[0m\u001b[0;34m[\u001b[0m\u001b[0mitime\u001b[0m\u001b[0;34m]\u001b[0m\u001b[0;34m,\u001b[0m\u001b[0mzc\u001b[0m\u001b[0;34m[\u001b[0m\u001b[0mtracker\u001b[0m\u001b[0;34m]\u001b[0m\u001b[0;34m[\u001b[0m\u001b[0mitime\u001b[0m\u001b[0;34m]\u001b[0m\u001b[0;34m)\u001b[0m\u001b[0;34m)\u001b[0m\u001b[0;34m\u001b[0m\u001b[0;34m\u001b[0m\u001b[0m\n",
      "\u001b[0;31mAttributeError\u001b[0m: 'CircularTestRegion' object has no attribute 'items'"
     ]
    }
   ],
   "source": [
    "for tracker,wakeobj in wake.items():\n",
    "    print(tracker,'center at',(yc[tracker][itime],zc[tracker][itime]))"
   ]
  },
  {
   "cell_type": "code",
   "execution_count": null,
   "metadata": {},
   "outputs": [],
   "source": [
    "all_yc = [ yc[tracker][itime] for tracker in wake.keys() ]\n",
    "all_zc = [ zc[tracker][itime] for tracker in wake.keys() ]\n",
    "yc_range = np.array([np.min(all_yc), np.max(all_yc)])\n",
    "zc_range = np.array([np.min(all_zc), np.max(all_zc)])\n",
    "print('y range:',yc_range,'==',yc_range/D,'D')\n",
    "print('z range:',zc_range,'==',zc_range/D,'D')"
   ]
  },
  {
   "cell_type": "markdown",
   "metadata": {},
   "source": [
    "### - Compare all methods"
   ]
  },
  {
   "cell_type": "code",
   "execution_count": null,
   "metadata": {},
   "outputs": [],
   "source": [
    "c1,c2,dc = -5, 5, 0.1 # for freestream profile\n",
    "levels = np.arange(c1,c2+dc,dc)\n",
    "len(levels)"
   ]
  },
  {
   "cell_type": "code",
   "execution_count": null,
   "metadata": {},
   "outputs": [],
   "source": [
    "fig,ax = plt.subplots(figsize=(9,6))\n",
    "con = ax.contourf(wake['const area'].xh[:,:],\n",
    "                  wake['const area'].xv[:,:],\n",
    "                  wake['const area'].u[0,:,:],levels=levels)\n",
    "plt.colorbar(con)\n",
    "ax.set_xlabel('Y (m)')\n",
    "ax.set_ylabel('Z (m)')\n",
    "\n",
    "for tracker,wakeobj in wake.items():\n",
    "    print('Plotting',tracker,styles[tracker]['label'])    \n",
    "    ax.plot(yc[tracker][itime], zc[tracker][itime],\n",
    "            color=styles[tracker]['color'],\n",
    "            marker=styles[tracker]['marker'],linestyle='',\n",
    "            ms=styles[tracker]['markersize'],mew=2,\n",
    "            label=styles[tracker]['label'])\n",
    "    ax.plot(wakeobj.paths[itime][:,0], wakeobj.paths[itime][:,1],\n",
    "            color=styles[tracker]['color'],\n",
    "            linestyle=styles[tracker]['linestyle'],\n",
    "            linewidth=styles[tracker]['linewidth'])\n",
    "plt.axis('equal')    \n",
    "legend = ax.legend(loc='center left',bbox_to_anchor=(1.2,0.5),ncol=1)\n",
    "plt.savefig('all_{:s}_wakes.png'.format(kind), dpi=150,\n",
    "            bbox_extra_artists=(legend,), bbox_inches='tight')  # to handle outside legend"
   ]
  },
  {
   "cell_type": "markdown",
   "metadata": {},
   "source": [
    "### - Compare contour methods"
   ]
  },
  {
   "cell_type": "code",
   "execution_count": null,
   "metadata": {},
   "outputs": [],
   "source": [
    "wakeobj = wake['const area']\n",
    "\n",
    "fig,ax = plt.subplots(figsize=(9,6))\n",
    "con = ax.contourf(wakeobj.xh[:,:],\n",
    "                  wakeobj.xv[:,:],\n",
    "                  wakeobj.u[0,:,:],levels=levels)\n",
    "ax.plot(wake['const area'].paths[itime][:,0], wake['const area'].paths[itime][:,1],\n",
    "        color=styles['const area']['color'],\n",
    "        linestyle=styles['const area']['linestyle'],\n",
    "        linewidth=styles['const area']['linewidth'])\n",
    "plt.colorbar(con,label=r'$U - U_{mean}$ (m/s)',ticks=np.arange(-4,5))\n",
    "plt.axis('equal')\n",
    "ax.set_xlabel('Y (m)')\n",
    "ax.set_ylabel('Z (m)')\n",
    "ax.set_title('Velocity Deficit')"
   ]
  },
  {
   "cell_type": "code",
   "execution_count": null,
   "metadata": {},
   "outputs": [],
   "source": [
    "fig,ax = plt.subplots(figsize=(9,6))\n",
    "con = ax.contourf(wakeobj.xh[:,:],\n",
    "                  wakeobj.xv[:,:],\n",
    "                  wakeobj.u[0,:,:]*wakeobj.u_tot[0,:,:],\n",
    "                  levels=np.linspace(-15,25,len(levels)))\n",
    "ax.plot(wake['momentum deficit'].paths[itime][:,0], wake['momentum deficit'].paths[itime][:,1],\n",
    "        color=styles['momentum deficit']['color'],\n",
    "        linestyle=styles['momentum deficit']['linestyle'],\n",
    "        linewidth=styles['momentum deficit']['linewidth'])\n",
    "plt.colorbar(con,label=r'$U(U_{mean} - U)$ (m$^2$/s$^2$)')\n",
    "plt.axis('equal')\n",
    "ax.set_xlabel('Y (m)')\n",
    "ax.set_ylabel('Z (m)')\n",
    "ax.set_title('Momentum Deficit')"
   ]
  },
  {
   "cell_type": "code",
   "execution_count": null,
   "metadata": {},
   "outputs": [],
   "source": [
    "fig,ax = plt.subplots(figsize=(9,6))\n",
    "con = ax.contourf(wakeobj.xh[:,:],\n",
    "                  wakeobj.xv[:,:],\n",
    "                  wakeobj.u_tot[0,:,:],\n",
    "                  levels=np.linspace(0,9.5,len(levels)))\n",
    "ax.plot(wake['const area'].paths[itime][:,0], wake['const area'].paths[itime][:,1],\n",
    "        color=styles['const area']['color'],\n",
    "        linestyle=styles['const area']['linestyle'],\n",
    "        linewidth=styles['const area']['linewidth'],\n",
    "        label=styles['const area']['label'])\n",
    "ax.plot(wake['momentum deficit'].paths[itime][:,0], wake['momentum deficit'].paths[itime][:,1],\n",
    "        color=styles['momentum deficit']['color'],\n",
    "        linestyle=styles['momentum deficit']['linestyle'],\n",
    "        linewidth=styles['momentum deficit']['linewidth'],\n",
    "        label=styles['momentum deficit']['label'])\n",
    "cb = plt.colorbar(con,label=r'$U$ (m/s)',ticks=np.arange(0,10))\n",
    "plt.axis('equal')\n",
    "ax.legend(loc='best')\n",
    "ax.set_xlabel('Y (m)')\n",
    "ax.set_ylabel('Z (m)')\n",
    "ax.set_title('Instantaneous Velocity')\n",
    "fig.savefig('compare_contour_{}.png'.format(kind),dpi=150)"
   ]
  },
  {
   "cell_type": "code",
   "execution_count": null,
   "metadata": {},
   "outputs": [],
   "source": []
  }
 ],
 "metadata": {
  "kernelspec": {
   "display_name": "Python 3",
   "language": "python",
   "name": "python3"
  },
  "language_info": {
   "codemirror_mode": {
    "name": "ipython",
    "version": 3
   },
   "file_extension": ".py",
   "mimetype": "text/x-python",
   "name": "python",
   "nbconvert_exporter": "python",
   "pygments_lexer": "ipython3",
   "version": "3.7.1"
  }
 },
 "nbformat": 4,
 "nbformat_minor": 2
}
