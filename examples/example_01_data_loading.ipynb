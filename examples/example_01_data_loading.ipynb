{
 "cells": [
  {
   "cell_type": "code",
   "execution_count": 1,
   "metadata": {},
   "outputs": [],
   "source": [
    "%load_ext autoreload\n",
    "%autoreload 2"
   ]
  },
  {
   "cell_type": "code",
   "execution_count": 2,
   "metadata": {},
   "outputs": [],
   "source": [
    "%matplotlib inline\n",
    "import os\n",
    "import numpy as np\n",
    "import matplotlib.pyplot as plt"
   ]
  },
  {
   "cell_type": "markdown",
   "metadata": {},
   "source": [
    "# Data loading\n",
    "Illustrates use of `samwich.dataloaders` to read wakes data into a consistent data structure from which a waketracker may be created\n",
    "\n",
    "Data are part of the regression test submodule, which may be downloaded from `waketracking/reg_tests` with the commands: `git submodule init && git submodule update`"
   ]
  },
  {
   "cell_type": "code",
   "execution_count": 3,
   "metadata": {},
   "outputs": [],
   "source": [
    "datadir = '../reg_tests/waketracking-rtest/data'"
   ]
  },
  {
   "cell_type": "markdown",
   "metadata": {},
   "source": [
    "## raw data\n",
    "Single snapshot of wake data from a csv file; 3 to 6 expected columns from the following:\n",
    "- 2 (y,z) or 3 (x,y,z) dimensions\n",
    "- 1 or 3 velocity components (u[,v,w]) -- Note: at the moment, only the streamwise component is used for tracking"
   ]
  },
  {
   "cell_type": "code",
   "execution_count": 4,
   "metadata": {},
   "outputs": [],
   "source": [
    "from samwich.dataloaders import RawData"
   ]
  },
  {
   "cell_type": "code",
   "execution_count": 5,
   "metadata": {},
   "outputs": [
    {
     "name": "stdout",
     "output_type": "stream",
     "text": [
      "../reg_tests/waketracking-rtest/data/3D_instantaneous_WFoR.csv\n"
     ]
    }
   ],
   "source": [
    "fpath = os.path.join(datadir, '3D_instantaneous_WFoR.csv')\n",
    "print(fpath)"
   ]
  },
  {
   "cell_type": "code",
   "execution_count": 6,
   "metadata": {},
   "outputs": [
    {
     "name": "stdout",
     "output_type": "stream",
     "text": [
      "# x y z u v w\n",
      "2495.8,1574.32,0.619571,1.34851,0.178606,-0.0143601\n",
      "2495.8,1574.32,1.23814,2.33591,-0.187807,0.0362182\n",
      "2495.8,1574.32,1.85671,3.61346,-0.554462,0.0632455\n",
      "2495.8,1574.32,2.47529,4.68831,-0.459155,0.134837\n",
      "...\n"
     ]
    }
   ],
   "source": [
    "with open(fpath,'r') as f:\n",
    "    for _ in range(5):\n",
    "        print(f.readline().strip())\n",
    "print('...')"
   ]
  },
  {
   "cell_type": "code",
   "execution_count": 7,
   "metadata": {},
   "outputs": [
    {
     "name": "stdout",
     "output_type": "stream",
     "text": [
      "Vector data array with shape (1,191,139) at 1 times read from ../reg_tests/waketracking-rtest/data/3D_instantaneous_WFoR.csv\n"
     ]
    }
   ],
   "source": [
    "wakedata = RawData(fpath)\n",
    "print(wakedata)"
   ]
  },
  {
   "cell_type": "markdown",
   "metadata": {},
   "source": [
    "## planar data\n",
    "One or more snapshots of planar wake data from a dictionary"
   ]
  },
  {
   "cell_type": "code",
   "execution_count": 8,
   "metadata": {},
   "outputs": [],
   "source": [
    "from samwich.dataloaders import PlanarData"
   ]
  },
  {
   "cell_type": "code",
   "execution_count": 9,
   "metadata": {},
   "outputs": [
    {
     "name": "stdout",
     "output_type": "stream",
     "text": [
      "../reg_tests/waketracking-rtest/data/les_3D.npz\n"
     ]
    }
   ],
   "source": [
    "fpath = os.path.join(datadir, 'les_3D.npz')\n",
    "print(fpath)"
   ]
  },
  {
   "cell_type": "code",
   "execution_count": 10,
   "metadata": {},
   "outputs": [
    {
     "name": "stdout",
     "output_type": "stream",
     "text": [
      "y (162, 162)\n",
      "z (162, 162)\n",
      "u (10, 162, 162)\n"
     ]
    }
   ],
   "source": [
    "datadict = np.load(fpath)\n",
    "for key,val in datadict.items():\n",
    "    print(key, val.shape)"
   ]
  },
  {
   "cell_type": "code",
   "execution_count": 11,
   "metadata": {},
   "outputs": [
    {
     "data": {
      "text/plain": [
       "Scalar data array with shape (1,162,162) at 10 times"
      ]
     },
     "execution_count": 11,
     "metadata": {},
     "output_type": "execute_result"
    }
   ],
   "source": [
    "wakedata = PlanarData(datadict)\n",
    "wakedata"
   ]
  },
  {
   "cell_type": "markdown",
   "metadata": {},
   "source": [
    "## netcdf (or other Xarray-readable) data"
   ]
  },
  {
   "cell_type": "code",
   "execution_count": 12,
   "metadata": {},
   "outputs": [],
   "source": [
    "from samwich.dataloaders import XarrayData"
   ]
  },
  {
   "cell_type": "code",
   "execution_count": 13,
   "metadata": {},
   "outputs": [
    {
     "name": "stdout",
     "output_type": "stream",
     "text": [
      "../reg_tests/waketracking-rtest/data/les_debnath_20190325_3D.nc\n"
     ]
    }
   ],
   "source": [
    "ncpath = os.path.join(datadir, 'les_debnath_20190325_3D.nc')\n",
    "print(ncpath)"
   ]
  },
  {
   "cell_type": "code",
   "execution_count": 14,
   "metadata": {},
   "outputs": [
    {
     "name": "stdout",
     "output_type": "stream",
     "text": [
      "<xarray.Dataset>\n",
      "Dimensions:  (t: 10, x: 1, y: 162, z: 162)\n",
      "Coordinates:\n",
      "  * t        (t) uint16 16150 16151 16152 16153 ... 16156 16157 16158 16159\n",
      "  * x        (x) uint8 81\n",
      "  * y        (y) float64 -40.0 -39.51 -39.01 -38.51 ... 38.51 39.01 39.51 40.0\n",
      "  * z        (z) float64 0.4979 0.9949 1.492 1.989 ... 79.01 79.51 80.01 80.5\n",
      "Data variables:\n",
      "    u        (t, x, y, z) float64 ...\n",
      "    v        (t, x, y, z) float64 ...\n",
      "    w        (t, x, y, z) float64 ...\n"
     ]
    }
   ],
   "source": [
    "try:\n",
    "    import xarray\n",
    "except ImportError:\n",
    "    print('xarray package not installed')\n",
    "else:\n",
    "    xd = xarray.open_dataset(ncpath)\n",
    "    print(xd)"
   ]
  },
  {
   "cell_type": "code",
   "execution_count": 15,
   "metadata": {},
   "outputs": [
    {
     "data": {
      "text/plain": [
       "Vector data array with shape (1,162,162) at 10 times read from ../reg_tests/waketracking-rtest/data/les_debnath_20190325_3D.nc"
      ]
     },
     "execution_count": 15,
     "metadata": {},
     "output_type": "execute_result"
    }
   ],
   "source": [
    "wakedata = XarrayData(ncpath)\n",
    "wakedata"
   ]
  },
  {
   "cell_type": "markdown",
   "metadata": {},
   "source": [
    "## series of structured VTK files\n",
    "e.g., output from SOWFA LES"
   ]
  },
  {
   "cell_type": "code",
   "execution_count": null,
   "metadata": {},
   "outputs": [],
   "source": [
    "#from samwich.dataloaders import StructuredVTKSeries"
   ]
  }
 ],
 "metadata": {
  "kernelspec": {
   "display_name": "Python 3",
   "language": "python",
   "name": "python3"
  },
  "language_info": {
   "codemirror_mode": {
    "name": "ipython",
    "version": 3
   },
   "file_extension": ".py",
   "mimetype": "text/x-python",
   "name": "python",
   "nbconvert_exporter": "python",
   "pygments_lexer": "ipython3",
   "version": "3.7.1"
  }
 },
 "nbformat": 4,
 "nbformat_minor": 2
}
